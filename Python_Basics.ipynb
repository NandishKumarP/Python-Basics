{
  "nbformat": 4,
  "nbformat_minor": 0,
  "metadata": {
    "colab": {
      "provenance": []
    },
    "kernelspec": {
      "name": "python3",
      "display_name": "Python 3"
    },
    "language_info": {
      "name": "python"
    }
  },
  "cells": [
    {
      "cell_type": "code",
      "execution_count": null,
      "metadata": {
        "id": "kTztgVAcRXzs"
      },
      "outputs": [],
      "source": []
    },
    {
      "cell_type": "markdown",
      "source": [
        "# Python Basics\n"
      ],
      "metadata": {
        "id": "ptDWOqFuRikF"
      }
    },
    {
      "cell_type": "code",
      "source": [],
      "metadata": {
        "id": "ePsHPTSiR2rg"
      },
      "execution_count": null,
      "outputs": []
    },
    {
      "cell_type": "markdown",
      "source": [
        "1. What is Python, and why is it popular?\n",
        "    \n",
        "    - Python is a Popular Programming language. easy to write and understand.\n",
        "     - It is compatible with other programings such aas proceduarl, object oriented and functional.\n",
        "    - there is huge python community.\n",
        "    - large standard libraty\n",
        "    - its free\n",
        "    - third party packages.\n",
        "\n",
        "2.  What is an interpreter in Python?\n",
        "    - Interpreter is a program which executes the python code by line at runtime.\n",
        "    - Python intepreter executes codes immeditely makint it easier to test\n",
        "\n",
        "3.  What are pre-defined keywords in Python?\n",
        "    - Python pre-defined keywords are reserved for specific fundtion in python if, else, elif , for, while\n",
        "\n",
        "4. Can keywords be used as variable names?\n",
        " - No, Key words can't be used as variable names in python\n",
        "\n",
        "5. What is mutability in Python?\n",
        "   - in Python program objects such as lists and directionaries can be modified  after creation, this is calleda s mutalble objects. Mutability affers how bojects are stored and manipualted in memory.\n",
        "\n",
        "6. Why are lists mutable, but tuples are immutable.\n",
        "   - Lists are mutable by design because they allow changes after creation.\n",
        "     whereas tuples by design are immutable, once created they cannot be altered\n",
        "\n",
        "7. What is the difference between “==” and “is” operators in Python?\n",
        "    - The \"==\" operator check whether the values between two are equal.\n",
        "      THe \"is\" operator checks the objects in memory\n",
        "\n",
        "8.What are logical operators in Python?\n",
        "   -  in python logic operators are used to combine tow condtional statements.\n",
        "      and , or   are conditional operators\n",
        "\n",
        "9. What is type casting in Python?\n",
        "   - type is process of changing one data type to another\n",
        "\n",
        "10.  What is the difference between implicit and explicit type casting?\n",
        "  -  Python when converting smaller data types to larger ones automatically\n",
        "     this is implicit type\n",
        "     Explicit type converting manually using specific function like int()\n",
        "\n",
        "11.  What is the purpose of conditional statements in Python?\n",
        "   - Conditional statements are used to execute code base on evaluation of one or more conditions.\n",
        "\n",
        "12. How does the elif statement work?\n",
        "   - by controling the flow of execution.\n",
        "\n",
        "13.  What is the difference between for and while loops/\n",
        "   - 'for\" loops are used for iterating over a sequence of elements, whereas \"while\" loops are used for executing code until a condtions becomes false.\n",
        "\n",
        "14. Describe a scenario where a while loop is more suitable than a for loop?\n",
        "\n",
        "#--- for input in range(5):\n",
        "# print (input)\n",
        "\n",
        " #--- while loop it will keep on iterate till count is <10\n",
        " # user_input = \"\"\n",
        "  #while user_input <10\n",
        "   #user_input=input(\"Enter something less than 10\")\n"
      ],
      "metadata": {
        "id": "dD5bwhECR_5g"
      }
    },
    {
      "cell_type": "markdown",
      "source": [],
      "metadata": {
        "id": "GLhurfdLgDjb"
      }
    },
    {
      "cell_type": "code",
      "source": [
        "#1. Write a Python program to print \"Hello, World!\"\n",
        "\n",
        "print(\"Hello, world\")"
      ],
      "metadata": {
        "colab": {
          "base_uri": "https://localhost:8080/"
        },
        "id": "P8yMT9ekgEIr",
        "outputId": "f05a6f95-b826-4697-ff2b-15f77c32abaf"
      },
      "execution_count": 4,
      "outputs": [
        {
          "output_type": "stream",
          "name": "stdout",
          "text": [
            "Hello, world\n"
          ]
        }
      ]
    },
    {
      "cell_type": "markdown",
      "source": [],
      "metadata": {
        "id": "AmMuE_dLh9nS"
      }
    },
    {
      "cell_type": "code",
      "source": [
        "# 2. Write a Python program that displays your name and age\n",
        "\n",
        "name = \"Nandish\"\n",
        "age = 100\n",
        "print(\"My name is %s and i am %d years old, \"%(name, age))"
      ],
      "metadata": {
        "colab": {
          "base_uri": "https://localhost:8080/"
        },
        "id": "Ux0uR1y8ihS2",
        "outputId": "8faa1f6a-d584-43a8-bd73-260dc607ee42"
      },
      "execution_count": 27,
      "outputs": [
        {
          "output_type": "stream",
          "name": "stdout",
          "text": [
            "My name is Nandish and i am 100 years old, \n"
          ]
        }
      ]
    },
    {
      "cell_type": "code",
      "source": [
        "# 3. Write code to print all the pre-defined keywords in Python using the keyword library\n",
        "import keyword\n",
        "print(\"keywords:\")\n",
        "print(keyword.kwlist)"
      ],
      "metadata": {
        "colab": {
          "base_uri": "https://localhost:8080/"
        },
        "id": "wjBiP0urmwLf",
        "outputId": "5b8a9bf6-4979-474a-b71d-2b0b3ccec806"
      },
      "execution_count": 43,
      "outputs": [
        {
          "output_type": "stream",
          "name": "stdout",
          "text": [
            "keywords:\n",
            "['False', 'None', 'True', 'and', 'as', 'assert', 'async', 'await', 'break', 'class', 'continue', 'def', 'del', 'elif', 'else', 'except', 'finally', 'for', 'from', 'global', 'if', 'import', 'in', 'is', 'lambda', 'nonlocal', 'not', 'or', 'pass', 'raise', 'return', 'try', 'while', 'with', 'yield']\n"
          ]
        }
      ]
    },
    {
      "cell_type": "code",
      "source": [
        "# 4. Write a program that checks if a given word is a Python keyword\n",
        "import keyword\n",
        "\n",
        "def check_keyword(word)):\n",
        "    if keyword.iskeyword(word):\n",
        "        print(f\"{word} is a Python keyword.\")\n",
        "    else:\n",
        "        print(f\"{word} is not a Python keyword.\")\n",
        "\n",
        "\n"
      ],
      "metadata": {
        "id": "KiUvrjE_oDQ4"
      },
      "execution_count": 77,
      "outputs": []
    },
    {
      "cell_type": "code",
      "source": [
        "# 5 Create a list and tuple in Python, and demonstrate how attempting to change an element works differently for each line"
      ],
      "metadata": {
        "id": "AijwNQfUrBN9"
      },
      "execution_count": null,
      "outputs": []
    },
    {
      "cell_type": "code",
      "source": [
        "my_list = [1, 2, 3]\n",
        "\n",
        "my_list[0] = 10\n",
        "print(\"Modified List:\", my_list)\n"
      ],
      "metadata": {
        "colab": {
          "base_uri": "https://localhost:8080/"
        },
        "id": "klMGJudoq7me",
        "outputId": "224d4969-bc10-4882-aeee-8af74d5ece8f"
      },
      "execution_count": 79,
      "outputs": [
        {
          "output_type": "stream",
          "name": "stdout",
          "text": [
            "Modified List: [10, 2, 3]\n"
          ]
        }
      ]
    },
    {
      "cell_type": "code",
      "source": [
        "my_tuple = (1, 2, 3)\n",
        "my_tuple[0] = 10\n",
        "\n",
        "print(\"Modified List:\", my_tuple)\n",
        "\n"
      ],
      "metadata": {
        "colab": {
          "base_uri": "https://localhost:8080/",
          "height": 211
        },
        "id": "tzkjO0fhsgV6",
        "outputId": "04c1218c-b474-4e04-efa6-83b9efbedd70"
      },
      "execution_count": 85,
      "outputs": [
        {
          "output_type": "error",
          "ename": "TypeError",
          "evalue": "'tuple' object does not support item assignment",
          "traceback": [
            "\u001b[0;31m---------------------------------------------------------------------------\u001b[0m",
            "\u001b[0;31mTypeError\u001b[0m                                 Traceback (most recent call last)",
            "\u001b[0;32m<ipython-input-85-6b2a12f9b70e>\u001b[0m in \u001b[0;36m<cell line: 2>\u001b[0;34m()\u001b[0m\n\u001b[1;32m      1\u001b[0m \u001b[0mmy_tuple\u001b[0m \u001b[0;34m=\u001b[0m \u001b[0;34m(\u001b[0m\u001b[0;36m1\u001b[0m\u001b[0;34m,\u001b[0m \u001b[0;36m2\u001b[0m\u001b[0;34m,\u001b[0m \u001b[0;36m3\u001b[0m\u001b[0;34m)\u001b[0m\u001b[0;34m\u001b[0m\u001b[0;34m\u001b[0m\u001b[0m\n\u001b[0;32m----> 2\u001b[0;31m \u001b[0mmy_tuple\u001b[0m\u001b[0;34m[\u001b[0m\u001b[0;36m0\u001b[0m\u001b[0;34m]\u001b[0m \u001b[0;34m=\u001b[0m \u001b[0;36m10\u001b[0m\u001b[0;34m\u001b[0m\u001b[0;34m\u001b[0m\u001b[0m\n\u001b[0m\u001b[1;32m      3\u001b[0m \u001b[0;34m\u001b[0m\u001b[0m\n\u001b[1;32m      4\u001b[0m \u001b[0mprint\u001b[0m\u001b[0;34m(\u001b[0m\u001b[0;34m\"Modified List:\"\u001b[0m\u001b[0;34m,\u001b[0m \u001b[0mmy_tuple\u001b[0m\u001b[0;34m)\u001b[0m\u001b[0;34m\u001b[0m\u001b[0;34m\u001b[0m\u001b[0m\n\u001b[1;32m      5\u001b[0m \u001b[0;34m\u001b[0m\u001b[0m\n",
            "\u001b[0;31mTypeError\u001b[0m: 'tuple' object does not support item assignment"
          ]
        }
      ]
    },
    {
      "cell_type": "code",
      "source": [
        " # 6 Write a function to demonstrate the behavior of mutable  arguments\n",
        "\n",
        "def modify_args(mutable_arg, immutable_arg):\n",
        "\n",
        "    mutable_arg.append(4)\n",
        "\n",
        "    try:\n",
        "        immutable_arg[1] = 'Changed'\n",
        "    except TypeError as e:\n",
        "        print(\"Error :\", e)\n",
        "\n",
        "\n",
        "my_list = [1, 2, 3]\n",
        "my_tuple = (1, 2, 3)\n",
        "\n",
        "\n",
        "modify_args(my_list, list(my_tuple))\n",
        "\n",
        "\n",
        "print(\"Modified List:\", my_list)\n",
        "\n"
      ],
      "metadata": {
        "colab": {
          "base_uri": "https://localhost:8080/"
        },
        "id": "AR_OCd34tHyX",
        "outputId": "9ffaf013-71c6-441a-cf9d-31b20369a0f6"
      },
      "execution_count": 113,
      "outputs": [
        {
          "output_type": "stream",
          "name": "stdout",
          "text": [
            "Modified List: [1, 2, 3, 4]\n"
          ]
        }
      ]
    },
    {
      "cell_type": "code",
      "source": [
        "# 7  Write a function to demonstrate the behavior of  immutable arguments\n",
        "\n",
        "def modify_args(mutable_arg, immutable_arg):\n",
        "\n",
        "    mutable_arg.append(4)\n",
        "\n",
        "    try:\n",
        "        immutable_arg[4] = 'Changed'\n",
        "    except TypeError as e:\n",
        "        print(\"Error :\", e)\n",
        "\n",
        "\n",
        "my_list = [1, 2, 3]\n",
        "my_tuple = (1, 2, 3)\n",
        "\n",
        "\n",
        "modify_args(my_list, list(my_tuple))\n",
        "\n",
        "\n",
        "print(\"Modified List:\", my_list)"
      ],
      "metadata": {
        "colab": {
          "base_uri": "https://localhost:8080/",
          "height": 332
        },
        "id": "awDCE8SLv0nU",
        "outputId": "dd53d6d5-8469-475f-f853-0e9d139415b5"
      },
      "execution_count": 122,
      "outputs": [
        {
          "output_type": "error",
          "ename": "IndexError",
          "evalue": "list assignment index out of range",
          "traceback": [
            "\u001b[0;31m---------------------------------------------------------------------------\u001b[0m",
            "\u001b[0;31mIndexError\u001b[0m                                Traceback (most recent call last)",
            "\u001b[0;32m<ipython-input-122-ff7853df405b>\u001b[0m in \u001b[0;36m<cell line: 17>\u001b[0;34m()\u001b[0m\n\u001b[1;32m     15\u001b[0m \u001b[0;34m\u001b[0m\u001b[0m\n\u001b[1;32m     16\u001b[0m \u001b[0;34m\u001b[0m\u001b[0m\n\u001b[0;32m---> 17\u001b[0;31m \u001b[0mmodify_args\u001b[0m\u001b[0;34m(\u001b[0m\u001b[0mmy_list\u001b[0m\u001b[0;34m,\u001b[0m \u001b[0mlist\u001b[0m\u001b[0;34m(\u001b[0m\u001b[0mmy_tuple\u001b[0m\u001b[0;34m)\u001b[0m\u001b[0;34m)\u001b[0m\u001b[0;34m\u001b[0m\u001b[0;34m\u001b[0m\u001b[0m\n\u001b[0m\u001b[1;32m     18\u001b[0m \u001b[0;34m\u001b[0m\u001b[0m\n\u001b[1;32m     19\u001b[0m \u001b[0;34m\u001b[0m\u001b[0m\n",
            "\u001b[0;32m<ipython-input-122-ff7853df405b>\u001b[0m in \u001b[0;36mmodify_args\u001b[0;34m(mutable_arg, immutable_arg)\u001b[0m\n\u001b[1;32m      6\u001b[0m \u001b[0;34m\u001b[0m\u001b[0m\n\u001b[1;32m      7\u001b[0m     \u001b[0;32mtry\u001b[0m\u001b[0;34m:\u001b[0m\u001b[0;34m\u001b[0m\u001b[0;34m\u001b[0m\u001b[0m\n\u001b[0;32m----> 8\u001b[0;31m         \u001b[0mimmutable_arg\u001b[0m\u001b[0;34m[\u001b[0m\u001b[0;36m4\u001b[0m\u001b[0;34m]\u001b[0m \u001b[0;34m=\u001b[0m \u001b[0;34m'Changed'\u001b[0m\u001b[0;34m\u001b[0m\u001b[0;34m\u001b[0m\u001b[0m\n\u001b[0m\u001b[1;32m      9\u001b[0m     \u001b[0;32mexcept\u001b[0m \u001b[0mTypeError\u001b[0m \u001b[0;32mas\u001b[0m \u001b[0me\u001b[0m\u001b[0;34m:\u001b[0m\u001b[0;34m\u001b[0m\u001b[0;34m\u001b[0m\u001b[0m\n\u001b[1;32m     10\u001b[0m         \u001b[0mprint\u001b[0m\u001b[0;34m(\u001b[0m\u001b[0;34m\"Error :\"\u001b[0m\u001b[0;34m,\u001b[0m \u001b[0me\u001b[0m\u001b[0;34m)\u001b[0m\u001b[0;34m\u001b[0m\u001b[0;34m\u001b[0m\u001b[0m\n",
            "\u001b[0;31mIndexError\u001b[0m: list assignment index out of range"
          ]
        }
      ]
    },
    {
      "cell_type": "code",
      "source": [
        "# Q 8.  Write a program to demonstrate the use of logical operators\n",
        "\n",
        "a = True\n",
        "b = False\n",
        "\n",
        "print(\"a and b:\", a and b)   # False\n",
        "print(\"a or b:\", a or b)     # True\n",
        "print(\"not a:\", not a)       # False\n"
      ],
      "metadata": {
        "colab": {
          "base_uri": "https://localhost:8080/"
        },
        "id": "MnIZkHjywx_6",
        "outputId": "8f50d539-b7f8-4fee-8894-f319ccd37d83"
      },
      "execution_count": 128,
      "outputs": [
        {
          "output_type": "stream",
          "name": "stdout",
          "text": [
            "a and b: False\n",
            "a or b: True\n",
            "not a: False\n"
          ]
        }
      ]
    },
    {
      "cell_type": "code",
      "source": [
        "# Q 9. Write a Python program to convert user input from string to integer, float, and boolean\n",
        "user_input = input(\"Enter a number: \")\n",
        "\n",
        "int_value = int(user_input)\n",
        "float_value = float(user_input)\n",
        "bool_value = bool(int_value)\n",
        "print(f\"String: {user_input}, Integer: {int_value}, Float: {float_value}, Boolean: {bool_value}\")\n",
        "\n",
        "\n"
      ],
      "metadata": {
        "colab": {
          "base_uri": "https://localhost:8080/"
        },
        "id": "fFfiaX7AxMuu",
        "outputId": "bacdfefe-b325-4ce1-c445-ebe0ec277901"
      },
      "execution_count": 129,
      "outputs": [
        {
          "output_type": "stream",
          "name": "stdout",
          "text": [
            "Enter a number: 1\n",
            "String: 1, Integer: 1, Float: 1.0, Boolean: True\n"
          ]
        }
      ]
    },
    {
      "cell_type": "code",
      "source": [
        "# Q 10 Write code to demonstrate type casting with list elements\n",
        "string_numbers = [\"1\", \"2\", \"3\", \"4\"]\n",
        "int_numbers = [int(num) for num in string_numbers]\n",
        "print(\"Original List:\", string_numbers)\n",
        "print(\"Converted List:\", int_numbers)\n"
      ],
      "metadata": {
        "colab": {
          "base_uri": "https://localhost:8080/"
        },
        "id": "oCXpcUS8xrVQ",
        "outputId": "563e04ef-deea-48d2-fc51-c31556bd6fa4"
      },
      "execution_count": 134,
      "outputs": [
        {
          "output_type": "stream",
          "name": "stdout",
          "text": [
            "Original List: ['1', '2', '3', '4']\n",
            "Converted List: [1, 2, 3, 4]\n"
          ]
        }
      ]
    },
    {
      "cell_type": "code",
      "source": [
        "# Q 11. Write a program that checks if a number is positive, negative, or zero\n",
        "number = float(input(\"Enter a number: \"))\n",
        "if number > 0:\n",
        "    print(\"The number is positive.\")\n",
        "elif number < 0:\n",
        "    print(\"The number is negative.\")\n",
        "else:\n",
        "    print(\"The number is zero.\")\n",
        "\n"
      ],
      "metadata": {
        "colab": {
          "base_uri": "https://localhost:8080/"
        },
        "id": "PqQuf0RFyCd0",
        "outputId": "6510d442-f214-4fc6-f0ad-3776eec0434b"
      },
      "execution_count": 137,
      "outputs": [
        {
          "output_type": "stream",
          "name": "stdout",
          "text": [
            "Enter a number: 1\n",
            "The number is positive.\n"
          ]
        }
      ]
    },
    {
      "cell_type": "code",
      "source": [
        "# Q 12. Write a for loop to print numbers from 1 to 10\n",
        "for i in range(1, 11):\n",
        "    print(i)\n",
        "\n",
        "\n"
      ],
      "metadata": {
        "colab": {
          "base_uri": "https://localhost:8080/"
        },
        "id": "_IcD76_Ky0Fh",
        "outputId": "d2829a31-c783-40c6-d96b-47c178eefd50"
      },
      "execution_count": 141,
      "outputs": [
        {
          "output_type": "stream",
          "name": "stdout",
          "text": [
            "1\n",
            "2\n",
            "3\n",
            "4\n",
            "5\n",
            "6\n",
            "7\n",
            "8\n",
            "9\n",
            "10\n"
          ]
        }
      ]
    },
    {
      "cell_type": "code",
      "source": [
        "# Q 13 Write a Python program to find the sum of all even numbers between 1 and 50\n",
        "sum_even = sum(i for i in range(1, 51) if i % 2 == 0)\n",
        "print(\"Sum of all even numbers between 1 and 50:\", sum_even)\n"
      ],
      "metadata": {
        "colab": {
          "base_uri": "https://localhost:8080/"
        },
        "id": "wvnaLu-8zR01",
        "outputId": "2fab4500-f5ee-4b20-c2ff-e5f438364e60"
      },
      "execution_count": 143,
      "outputs": [
        {
          "output_type": "stream",
          "name": "stdout",
          "text": [
            "Sum of all even numbers between 1 and 50: 650\n"
          ]
        }
      ]
    },
    {
      "cell_type": "code",
      "source": [
        "# Q 14 Write a program to reverse a string using a while loop\n",
        "def reverse_string(s):\n",
        "    reversed_str = \"\"\n",
        "    index = len(s) - 1\n",
        "\n",
        "    while index >= 0:\n",
        "        reversed_str += s[index]\n",
        "        index -= 1\n",
        "\n",
        "    return reversed_str\n",
        "\n",
        "input_string = input(\"Enter a string to reverse: \")\n",
        "print(\"Reversed String:\", reverse_string(input_string))\n"
      ],
      "metadata": {
        "colab": {
          "base_uri": "https://localhost:8080/"
        },
        "id": "C1dr75NBzn_f",
        "outputId": "663c3b64-b050-4993-ad26-f86d46d19d0d"
      },
      "execution_count": 146,
      "outputs": [
        {
          "output_type": "stream",
          "name": "stdout",
          "text": [
            "Enter a string to reverse: ABCD\n",
            "Reversed String: DCBA\n"
          ]
        }
      ]
    },
    {
      "cell_type": "code",
      "source": [
        "# Q 15 Write a program to reverse a string using a while loop\n",
        "def factorial(n):\n",
        "    result = 1\n",
        "\n",
        "    while n > 0:\n",
        "        result *= n\n",
        "        n -= 1\n",
        "\n",
        "    return result\n",
        "\n",
        "number = int(input(\"Enter a number to calculate its factorial: \"))\n",
        "print(f\"The factorial of {number} is {factorial(number)}.\")\n",
        "\n"
      ],
      "metadata": {
        "colab": {
          "base_uri": "https://localhost:8080/"
        },
        "id": "H0hXqCAF0hOm",
        "outputId": "478e8853-723d-4206-b96a-6e1b78bbf2aa"
      },
      "execution_count": 148,
      "outputs": [
        {
          "output_type": "stream",
          "name": "stdout",
          "text": [
            "Enter a number to calculate its factorial: 10\n",
            "The factorial of 10 is 3628800.\n"
          ]
        }
      ]
    },
    {
      "cell_type": "code",
      "source": [],
      "metadata": {
        "id": "p14OGsDs1N98"
      },
      "execution_count": null,
      "outputs": []
    }
  ]
}